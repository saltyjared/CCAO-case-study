{
 "cells": [
  {
   "cell_type": "markdown",
   "metadata": {},
   "source": [
    "On June 10th, 2017, \"The Tax Divide\" was published to the Chicago Tribune, highlighting Cook County's property tax system and the unfair burden it placed on residents during the late 2000s through the mid 2010s. The articles presented its own analysis of property assessments and tax rates in relation to median household income, percentage of white residents, and appeal rate. The results revealed a systematic problem in the way Cook County assessed properties, leading to a regressive tax system that targeted lower-income, minority homeowners.\n"
   ]
  },
  {
   "cell_type": "markdown",
   "metadata": {},
   "source": [
    "In response\n"
   ]
  },
  {
   "cell_type": "markdown",
   "metadata": {},
   "source": []
  }
 ],
 "metadata": {
  "language_info": {
   "name": "python"
  }
 },
 "nbformat": 4,
 "nbformat_minor": 2
}
